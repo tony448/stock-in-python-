{
 "cells": [
  {
   "cell_type": "markdown",
   "id": "962a2cfe",
   "metadata": {},
   "source": [
    "# Multihread_Download Financial Statement\n",
    "\n",
    "## 這是一個自動下載財務報表的程式，只需要輸入你想要股票代碼，就可以自動開啟瀏覽器下載三大報表\n",
    "## Tool: Goodinfo 網站、selenium 、beautifulsoup4"
   ]
  },
  {
   "cell_type": "markdown",
   "id": "00c7ec4d",
   "metadata": {},
   "source": [
    "## Import Library"
   ]
  },
  {
   "cell_type": "code",
   "execution_count": null,
   "id": "2f5a30d7",
   "metadata": {},
   "outputs": [],
   "source": [
    "import tkinter as tk\n",
    "from selenium import webdriver\n",
    "from selenium.webdriver.chrome.options import Options\n",
    "import time\n",
    "import threading\n",
    "import concurrent.futures \n",
    "from bs4 import BeautifulSoup\n",
    "from functools import partial\n",
    "from PIL import Image, ImageTk"
   ]
  },
  {
   "cell_type": "markdown",
   "id": "9ed25ea2",
   "metadata": {},
   "source": [
    "## Download Function Use Chrome Webdriver"
   ]
  },
  {
   "cell_type": "code",
   "execution_count": null,
   "id": "67d741cd",
   "metadata": {},
   "outputs": [],
   "source": [
    "def downloadstatement(address):\n",
    "    options = Options()\n",
    "    options.add_argument(\"--disable-notifications\")\n",
    "    chrome = webdriver.Chrome('./chromedriver', chrome_options=options)\n",
    "    chrome.get(address)\n",
    "    download = chrome.find_element_by_xpath('//*[@id=\"txtFinBody\"]/table/tbody/tr/td/div/nobr/input[1]') #use xpath to select the button\n",
    "    download.click()\n",
    "    return 0  "
   ]
  },
  {
   "cell_type": "markdown",
   "id": "80b7b0e3",
   "metadata": {},
   "source": [
    "## Search function for input your stock number that you want to download the financial information"
   ]
  },
  {
   "cell_type": "code",
   "execution_count": null,
   "id": "783b822e",
   "metadata": {},
   "outputs": [],
   "source": [
    "def search_stock(address):\n",
    "    options = Options()\n",
    "    options.add_argument(\"--disable-notifications\")\n",
    "    chrome = webdriver.Chrome('./chromedriver', chrome_options=options)\n",
    "    chrome.get(address)    \n",
    "    stocknum = stock_var.get()\n",
    "    stocknum = int(stocknum)\n",
    "    input = chrome.find_element_by_id(\"txtStockCode\")\n",
    "    input.send_keys(stocknum)\n",
    "    input.submit()\n",
    "    soup = BeautifulSoup(chrome.page_source,'html.parser')\n",
    "    financialstatement = soup.find(\"a\",string = \"資產負債表\")\n",
    "    incomestatement = soup.find(\"a\",string = \"損益表\")\n",
    "    cashflowstatement = soup.find(\"a\",string = \"現金流量表\")\n",
    "    financialstatement_href = financialstatement.get('href')\n",
    "    financialstatement_href = \"https://goodinfo.tw/StockInfo/\" + financialstatement_href\n",
    "    cashflowstatement_href = cashflowstatement.get('href')\n",
    "    cashflowstatement_href = \"https://goodinfo.tw/StockInfo/\" +  cashflowstatement_href\n",
    "    incomestatement_href = incomestatement.get('href')\n",
    "    incomestatement_href = \"https://goodinfo.tw/StockInfo/\" + incomestatement_href\n",
    "    threads = []\n",
    "    threads.append(threading.Thread(target=downloadstatement,args=(financialstatement_href,)))\n",
    "    threads.append(threading.Thread(target=downloadstatement,args=(incomestatement_href,)))\n",
    "    threads.append(threading.Thread(target=downloadstatement,args=(cashflowstatement_href,)))\n",
    "    for i in range(3):\n",
    "        threads[i].start()\n",
    "    for i in range(3):\n",
    "        threads[i].join()\n",
    "    return 0  "
   ]
  },
  {
   "cell_type": "markdown",
   "id": "a7febbf7",
   "metadata": {},
   "source": [
    "## Setting about the window gui and show some information about what you gonna download\n",
    "## just input your stock number and it will open your browser and download the financial statemend"
   ]
  },
  {
   "cell_type": "code",
   "execution_count": null,
   "id": "7a37203e",
   "metadata": {},
   "outputs": [],
   "source": [
    "window = tk.Tk()\n",
    "window.title(\"threading homework\")\n",
    "window.geometry(\"800x400\")\n",
    "top_frame = tk.Frame(window)\n",
    "goodinfo_address = \"https://goodinfo.tw/StockInfo/index.asp\"\n",
    "#button & label area \n",
    "clickme_button = tk.Button(window,\n",
    "                       text = \"search\",\n",
    "                       width = 6,\n",
    "                       height = 1,\n",
    "                       bg = \"yellow\",\n",
    "                       command = partial(search_stock,goodinfo_address))\n",
    "incomestatemnt_button = tk.Label(window,\n",
    "                       text = \"損益表\",\n",
    "                       width = 8,\n",
    "                       height = 1,\n",
    "                       bg = \"yellow\")\n",
    "cashflow_button = tk.Label(window,\n",
    "                       text = \"現金流量表\",\n",
    "                       width = 8,\n",
    "                       height = 1,\n",
    "                       bg = \"yellow\")\n",
    "financialstatement_button = tk.Label(window,\n",
    "                       text = \"財務比率表\",\n",
    "                       width = 8,\n",
    "                       height = 1,\n",
    "                       bg = \"yellow\")\n",
    "clickme_button.place(x=365,y=70)\n",
    "cashflow_button.place(x=365,y=100)\n",
    "financialstatement_button.place(x=365,y=130)\n",
    "incomestatemnt_button.place(x=365,y=160)\n",
    "stock_var = tk.StringVar()\n",
    "stock_entry = tk.Entry(window, bd=5, textvariable=stock_var)\n",
    "stock_entry.place(x=200,y=70)\n",
    "inputstock_label = tk.Label(text = \"please enetr the stock number\",\n",
    "                 foreground=\"black\")\n",
    "inputstock_label.place(x=10,y=70)\n",
    "title_label = tk.Label(text = \"This is a program help you to download financial statement using thread\",\n",
    "                 foreground=\"black\")\n",
    "title_label.place(x=200,y=10)\n",
    "\n",
    "canvas = tk.Canvas(window,width=150,height=150)\n",
    "canvas.pack(fill=\"both\",expand=\"TRUE\",side=\"left\",padx=0,pady=0)\n",
    "canvas.place(x=195,y=90)\n",
    "window.mainloop()"
   ]
  }
 ],
 "metadata": {
  "kernelspec": {
   "display_name": "Python 3 (ipykernel)",
   "language": "python",
   "name": "python3"
  },
  "language_info": {
   "codemirror_mode": {
    "name": "ipython",
    "version": 3
   },
   "file_extension": ".py",
   "mimetype": "text/x-python",
   "name": "python",
   "nbconvert_exporter": "python",
   "pygments_lexer": "ipython3",
   "version": "3.9.0"
  }
 },
 "nbformat": 4,
 "nbformat_minor": 5
}
