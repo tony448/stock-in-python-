{
 "cells": [
  {
   "cell_type": "markdown",
   "metadata": {},
   "source": [
    "# Equal-Weight S&P 500 Index Fund\n",
    "    \n",
    "## Introduction & Library Imports\n",
    "\n",
    "The S&P 500 is the world's most popular stock market index. The largest fund that is benchmarked to this index is the SPDR® S&P 500® ETF Trust. It has more than US$250 billion of assets under management.\n",
    "\n",
    "The goal of this section of the course is to create a Python script that will accept the value of your portfolio and tell you how many shares of each S&P 500 constituent you should purchase to get an equal-weight version of the index fund.\n",
    "\n",
    "## Library Imports\n",
    "\n",
    "The first thing we need to do is import the open-source software libraries that we'll be using in this tutorial."
   ]
  },
  {
   "cell_type": "code",
   "execution_count": 1,
   "metadata": {
    "scrolled": true
   },
   "outputs": [],
   "source": [
    "import math \n",
    "import requests\n",
    "import pandas as pd\n",
    "import numpy as np\n",
    "import xlsxwriter"
   ]
  },
  {
   "cell_type": "code",
   "execution_count": 2,
   "metadata": {},
   "outputs": [
    {
     "name": "stdout",
     "output_type": "stream",
     "text": [
      "    Ticker\n",
      "0        A\n",
      "1      AAL\n",
      "2      AAP\n",
      "3     AAPL\n",
      "4     ABBV\n",
      "..     ...\n",
      "497    YUM\n",
      "498    ZBH\n",
      "499   ZBRA\n",
      "500   ZION\n",
      "501    ZTS\n",
      "\n",
      "[502 rows x 1 columns]\n"
     ]
    }
   ],
   "source": [
    "stocks = pd.read_csv('sp_500_stocks.csv')\n",
    "print(stocks)"
   ]
  },
  {
   "cell_type": "markdown",
   "metadata": {},
   "source": [
    "## Acquiring an API Token\n",
    "\n",
    "Now it's time to import our IEX Cloud API token. This is the data provider that we will be using throughout this course.\n",
    "\n",
    "API tokens (and other sensitive information) should be stored in a `secrets.py` file that doesn't get pushed to your local Git repository. We'll be using a sandbox API token in this course, which means that the data we'll use is randomly-generated and (more importantly) has no cost associated with it.\n",
    "\n",
    "[Click here](http://nickmccullum.com/algorithmic-trading-python/secrets.py) to download your `secrets.py` file. Move the file into the same directory as this Jupyter Notebook before proceeding."
   ]
  },
  {
   "cell_type": "code",
   "execution_count": 3,
   "metadata": {},
   "outputs": [],
   "source": [
    "from secrets import IEX_CLOUD_API_TOKEN"
   ]
  },
  {
   "cell_type": "code",
   "execution_count": 4,
   "metadata": {},
   "outputs": [],
   "source": [
    "symbol = 'AAPL'\n",
    "api_url = f'https://sandbox.iexapis.com/stable/stock/{symbol}/quote/?token={IEX_CLOUD_API_TOKEN}'\n",
    "data = requests.get(api_url).json()"
   ]
  },
  {
   "cell_type": "markdown",
   "metadata": {},
   "source": [
    "## Parsing  API Call"
   ]
  },
  {
   "cell_type": "code",
   "execution_count": 5,
   "metadata": {
    "scrolled": true
   },
   "outputs": [],
   "source": [
    "price = data['latestPrice']\n",
    "market_cap = data['marketCap']"
   ]
  },
  {
   "cell_type": "code",
   "execution_count": 6,
   "metadata": {},
   "outputs": [
    {
     "name": "stdout",
     "output_type": "stream",
     "text": [
      "Empty DataFrame\n",
      "Columns: [Ticker, Stock Price, Market Capitalization, Number of Shares to Buy]\n",
      "Index: []\n"
     ]
    }
   ],
   "source": [
    "my_columns = ['Ticker','Stock Price','Market Capitalization','Number of Shares to Buy']\n",
    "final_dataframe = pd.DataFrame(columns = my_columns)\n",
    "print(final_dataframe)"
   ]
  },
  {
   "cell_type": "code",
   "execution_count": 7,
   "metadata": {
    "scrolled": false
   },
   "outputs": [
    {
     "data": {
      "text/html": [
       "<div>\n",
       "<style scoped>\n",
       "    .dataframe tbody tr th:only-of-type {\n",
       "        vertical-align: middle;\n",
       "    }\n",
       "\n",
       "    .dataframe tbody tr th {\n",
       "        vertical-align: top;\n",
       "    }\n",
       "\n",
       "    .dataframe thead th {\n",
       "        text-align: right;\n",
       "    }\n",
       "</style>\n",
       "<table border=\"1\" class=\"dataframe\">\n",
       "  <thead>\n",
       "    <tr style=\"text-align: right;\">\n",
       "      <th></th>\n",
       "      <th>Ticker</th>\n",
       "      <th>Stock Price</th>\n",
       "      <th>Market Capitalization</th>\n",
       "      <th>Number of Shares to Buy</th>\n",
       "    </tr>\n",
       "  </thead>\n",
       "  <tbody>\n",
       "    <tr>\n",
       "      <th>0</th>\n",
       "      <td>AAPL</td>\n",
       "      <td>172.6</td>\n",
       "      <td>2931768480528</td>\n",
       "      <td>N/A</td>\n",
       "    </tr>\n",
       "  </tbody>\n",
       "</table>\n",
       "</div>"
      ],
      "text/plain": [
       "  Ticker  Stock Price Market Capitalization Number of Shares to Buy\n",
       "0   AAPL        172.6         2931768480528                     N/A"
      ]
     },
     "execution_count": 7,
     "metadata": {},
     "output_type": "execute_result"
    }
   ],
   "source": [
    "final_dataframe.append(\n",
    "    pd.Series(\n",
    "    [\n",
    "        symbol,\n",
    "        price,\n",
    "        market_cap,\n",
    "        'N/A'\n",
    "    ],\n",
    "    index = my_columns\n",
    "    ),\n",
    "    ignore_index = True\n",
    ")"
   ]
  },
  {
   "cell_type": "markdown",
   "metadata": {},
   "source": [
    "## Looping Through The Tickers in Our List of Stocks\n",
    "\n",
    "Using the same logic that we outlined above, we can pull data for all S&P 500 stocks and store their data in the DataFrame using a `for` loop."
   ]
  },
  {
   "cell_type": "code",
   "execution_count": 8,
   "metadata": {
    "scrolled": false
   },
   "outputs": [
    {
     "name": "stdout",
     "output_type": "stream",
     "text": [
      "{'avgTotalVolume': 2471524, 'calculationPrice': 'tops', 'change': -4.85, 'changePercent': -0.03537, 'close': 0, 'closeSource': 'olciiaff', 'closeTime': None, 'companyName': 'Agilent Technologies Inc.', 'currency': 'USD', 'delayedPrice': None, 'delayedPriceTime': None, 'extendedChange': None, 'extendedChangePercent': None, 'extendedPrice': None, 'extendedPriceTime': None, 'high': 0, 'highSource': ' re ladc1tee5y iuenpidm', 'highTime': 1669713394633, 'iexAskPrice': 0, 'iexAskSize': 0, 'iexBidPrice': 140.26, 'iexBidSize': 100, 'iexClose': 136.77, 'iexCloseTime': 1683968309739, 'iexLastUpdated': 1694487974514, 'iexMarketPercent': 0.06082351561557742, 'iexOpen': 141.8, 'iexOpenTime': 1709458564812, 'iexRealtimePrice': 139.34, 'iexRealtimeSize': 36, 'iexVolume': 39477, 'lastTradeTime': 1718732168499, 'latestPrice': 136.75, 'latestSource': 'IEX real time price', 'latestTime': '2:31:01 PM', 'latestUpdate': 1714180313196, 'latestVolume': None, 'low': 0, 'lowSource': 'tec1dmnye u darie ei5pl', 'lowTime': 1653883514249, 'marketCap': 41127173230, 'oddLotDelayedPrice': None, 'oddLotDelayedPriceTime': None, 'open': 0, 'openTime': None, 'openSource': 'icoiffla', 'peRatio': 35.01, 'previousClose': 142.41, 'previousVolume': 2061522, 'primaryExchange': 'HE.KAICCRNXG ONYKNT  SWECE O', 'symbol': 'A', 'volume': None, 'week52High': 182.85, 'week52Low': 123.51, 'ytdChange': -0.16610778982804503, 'isUSMarketOpen': True}\n",
      "{'avgTotalVolume': 56342173, 'calculationPrice': 'tops', 'change': -0.34, 'changePercent': -0.02035, 'close': 0, 'closeSource': 'iacffoil', 'closeTime': None, 'companyName': 'American Airlines Group Inc', 'currency': 'USD', 'delayedPrice': None, 'delayedPriceTime': None, 'extendedChange': None, 'extendedChangePercent': None, 'extendedPrice': None, 'extendedPriceTime': None, 'high': 0, 'highSource': None, 'highTime': None, 'iexAskPrice': 16.96, 'iexAskSize': 2990, 'iexBidPrice': 16.86, 'iexBidSize': 207, 'iexClose': 16.35, 'iexCloseTime': 1676742102834, 'iexLastUpdated': 1656355078836, 'iexMarketPercent': 0.021716423686967745, 'iexOpen': 16.536, 'iexOpenTime': 1675694668992, 'iexRealtimePrice': 16.93, 'iexRealtimeSize': 30, 'iexVolume': 484401, 'lastTradeTime': 1700838768541, 'latestPrice': 16.97, 'latestSource': 'IEX real time price', 'latestTime': '2:30:52 PM', 'latestUpdate': 1673410722245, 'latestVolume': None, 'low': 0, 'lowSource': None, 'lowTime': None, 'marketCap': 10593448345, 'oddLotDelayedPrice': None, 'oddLotDelayedPriceTime': None, 'open': 0, 'openTime': None, 'openSource': 'lifacifo', 'peRatio': -5.51, 'previousClose': 16.82, 'previousVolume': 40394298, 'primaryExchange': 'DQANSA', 'symbol': 'AAL', 'volume': None, 'week52High': 26.92, 'week52Low': 12.92, 'ytdChange': -0.10076896685262077, 'isUSMarketOpen': True}\n",
      "{'avgTotalVolume': 1041984, 'calculationPrice': 'tops', 'change': 3.05, 'changePercent': 0.0146, 'close': 0, 'closeSource': 'cifliofa', 'closeTime': None, 'companyName': 'Advance Auto Parts Inc', 'currency': 'USD', 'delayedPrice': None, 'delayedPriceTime': None, 'extendedChange': None, 'extendedChangePercent': None, 'extendedPrice': None, 'extendedPriceTime': None, 'high': 0, 'highSource': 'tnu e1y5 icldirempedae ', 'highTime': 1711795871446, 'iexAskPrice': 215.79, 'iexAskSize': 105, 'iexBidPrice': 221.43, 'iexBidSize': 208, 'iexClose': 218.92, 'iexCloseTime': 1698867966368, 'iexLastUpdated': 1695139684555, 'iexMarketPercent': 0.1016737202935466, 'iexOpen': 216.51, 'iexOpenTime': 1650136186064, 'iexRealtimePrice': 214.13, 'iexRealtimeSize': 2, 'iexVolume': 58505, 'lastTradeTime': 1698972111803, 'latestPrice': 218.69, 'latestSource': 'IEX real time price', 'latestTime': '2:30:42 PM', 'latestUpdate': 1660856490132, 'latestVolume': None, 'low': 0, 'lowSource': '1cdlua demtienep  ri5ey', 'lowTime': 1687038286756, 'marketCap': 13129510598, 'oddLotDelayedPrice': None, 'oddLotDelayedPriceTime': None, 'open': 0, 'openTime': None, 'openSource': 'iloicaff', 'peRatio': 22.73, 'previousClose': 214.8, 'previousVolume': 1208287, 'primaryExchange': 'OOCKNH EYCEGTRCX .SK E NANWI', 'symbol': 'AAP', 'volume': None, 'week52High': 244.75, 'week52Low': 182.1, 'ytdChange': -0.10862699328180925, 'isUSMarketOpen': True}\n",
      "{'avgTotalVolume': 97198808, 'calculationPrice': 'tops', 'change': 3.21, 'changePercent': 0.01911, 'close': 0, 'closeSource': 'faiicflo', 'closeTime': None, 'companyName': 'Apple Inc', 'currency': 'USD', 'delayedPrice': None, 'delayedPriceTime': None, 'extendedChange': None, 'extendedChangePercent': None, 'extendedPrice': None, 'extendedPriceTime': None, 'high': 0, 'highSource': None, 'highTime': None, 'iexAskPrice': 172.2, 'iexAskSize': 416, 'iexBidPrice': 172.85, 'iexBidSize': 137, 'iexClose': 172.9, 'iexCloseTime': 1700078723429, 'iexLastUpdated': 1702382492163, 'iexMarketPercent': 0.018034447138486842, 'iexOpen': 170.35, 'iexOpenTime': 1706544112807, 'iexRealtimePrice': 179.6, 'iexRealtimeSize': 2, 'iexVolume': 1233307, 'lastTradeTime': 1670322797481, 'latestPrice': 173.6, 'latestSource': 'IEX real time price', 'latestTime': '2:30:58 PM', 'latestUpdate': 1725630033599, 'latestVolume': None, 'low': 0, 'lowSource': None, 'lowTime': None, 'marketCap': 2910665455714, 'oddLotDelayedPrice': None, 'oddLotDelayedPriceTime': None, 'open': 0, 'openTime': None, 'openSource': 'ilacfofi', 'peRatio': 28.71, 'previousClose': 172.05, 'previousVolume': 83282388, 'primaryExchange': 'DSQNAA', 'symbol': 'AAPL', 'volume': None, 'week52High': 186.47, 'week52Low': 124.04, 'ytdChange': -0.030900633128723806, 'isUSMarketOpen': True}\n",
      "{'avgTotalVolume': 8001345, 'calculationPrice': 'tops', 'change': -1.1, 'changePercent': -0.00706, 'close': 0, 'closeSource': 'iaoiflfc', 'closeTime': None, 'companyName': 'Abbvie Inc', 'currency': 'USD', 'delayedPrice': None, 'delayedPriceTime': None, 'extendedChange': None, 'extendedChangePercent': None, 'extendedPrice': None, 'extendedPriceTime': None, 'high': 0, 'highSource': 'et e 1eil c5eyamudidnrp', 'highTime': 1674991404880, 'iexAskPrice': 160.98, 'iexAskSize': 107, 'iexBidPrice': 157.64, 'iexBidSize': 181, 'iexClose': 164.24, 'iexCloseTime': 1651427622696, 'iexLastUpdated': 1661979187994, 'iexMarketPercent': 0.05588934163118171, 'iexOpen': 165.44, 'iexOpenTime': 1684062979516, 'iexRealtimePrice': 163.17, 'iexRealtimeSize': 105, 'iexVolume': 177980, 'lastTradeTime': 1721707585119, 'latestPrice': 160.87, 'latestSource': 'IEX real time price', 'latestTime': '2:31:01 PM', 'latestUpdate': 1711795866743, 'latestVolume': None, 'low': 0, 'lowSource': '1meed5craie l ytpie udn', 'lowTime': 1666189968177, 'marketCap': 284067966855, 'oddLotDelayedPrice': None, 'oddLotDelayedPriceTime': None, 'open': 0, 'openTime': None, 'openSource': 'fcfoliia', 'peRatio': 25.29, 'previousClose': 166.1, 'previousVolume': 5843498, 'primaryExchange': 'GTEWKCRC EAXNO N  KO.CYNESIH', 'symbol': 'ABBV', 'volume': None, 'week52High': 162.72, 'week52Low': 100.08, 'ytdChange': 0.19009330233292518, 'isUSMarketOpen': True}\n",
      "{'avgTotalVolume': 1231926, 'calculationPrice': 'tops', 'change': -0.07, 'changePercent': -0.00047, 'close': 0, 'closeSource': 'ofiafilc', 'closeTime': None, 'companyName': 'Amerisource Bergen Corp.', 'currency': 'USD', 'delayedPrice': None, 'delayedPriceTime': None, 'extendedChange': None, 'extendedChangePercent': None, 'extendedPrice': None, 'extendedPriceTime': None, 'high': 0, 'highSource': 'yi5 1 edeienmc eptlradu', 'highTime': 1683764016502, 'iexAskPrice': 160.64, 'iexAskSize': 182, 'iexBidPrice': 0, 'iexBidSize': 0, 'iexClose': 152.91, 'iexCloseTime': 1681314241437, 'iexLastUpdated': 1648490562593, 'iexMarketPercent': 0.0926371630031205, 'iexOpen': 155.9, 'iexOpenTime': 1648465855515, 'iexRealtimePrice': 152.25, 'iexRealtimeSize': 6, 'iexVolume': 49507, 'lastTradeTime': 1722898138409, 'latestPrice': 157.49, 'latestSource': 'IEX real time price', 'latestTime': '2:30:22 PM', 'latestUpdate': 1700464140165, 'latestVolume': None, 'low': 0, 'lowSource': 'u e ediieydtmnrcel51 ap', 'lowTime': 1714817911031, 'marketCap': 32799255950, 'oddLotDelayedPrice': None, 'oddLotDelayedPriceTime': None, 'open': 0, 'openTime': None, 'openSource': 'faofclii', 'peRatio': 19.85, 'previousClose': 156.14, 'previousVolume': 1099937, 'primaryExchange': ' OS.EH WR GKACCEX NEIYNOKCNT', 'symbol': 'ABC', 'volume': None, 'week52High': 160.87, 'week52Low': 113.32, 'ytdChange': 0.1495249679631613, 'isUSMarketOpen': True}\n",
      "{'avgTotalVolume': 264452, 'calculationPrice': 'tops', 'change': -4.26, 'changePercent': -0.01373, 'close': 0, 'closeSource': 'iifaofcl', 'closeTime': None, 'companyName': 'Abiomed Inc.', 'currency': 'USD', 'delayedPrice': None, 'delayedPriceTime': None, 'extendedChange': None, 'extendedChangePercent': None, 'extendedPrice': None, 'extendedPriceTime': None, 'high': 0, 'highSource': 'm lepEtcIirX ia ere', 'highTime': 1682224540189, 'iexAskPrice': 0, 'iexAskSize': 0, 'iexBidPrice': 320.24, 'iexBidSize': 133, 'iexClose': 321.1, 'iexCloseTime': 1714249772879, 'iexLastUpdated': 1674723106141, 'iexMarketPercent': 0.09704185787990689, 'iexOpen': 319.7, 'iexOpenTime': 1683617005464, 'iexRealtimePrice': 319, 'iexRealtimeSize': 208, 'iexVolume': 9462, 'lastTradeTime': 1725261837183, 'latestPrice': 323.8, 'latestSource': 'IEX real time price', 'latestTime': '2:30:53 PM', 'latestUpdate': 1674357191235, 'latestVolume': None, 'low': 0, 'lowSource': None, 'lowTime': None, 'marketCap': 14605894517, 'oddLotDelayedPrice': None, 'oddLotDelayedPriceTime': None, 'open': 0, 'openTime': None, 'openSource': 'oilicffa', 'peRatio': 109.22, 'previousClose': 315.56, 'previousVolume': 216352, 'primaryExchange': 'NDAQAS', 'symbol': 'ABMD', 'volume': None, 'week52High': 386.2, 'week52Low': 266.61, 'ytdChange': -0.1426193464620945, 'isUSMarketOpen': True}\n",
      "{'avgTotalVolume': 6034385, 'calculationPrice': 'tops', 'change': -4.367, 'changePercent': -0.03575, 'close': 0, 'closeSource': 'cifaifol', 'closeTime': None, 'companyName': 'Abbott Laboratories', 'currency': 'USD', 'delayedPrice': None, 'delayedPriceTime': None, 'extendedChange': None, 'extendedChangePercent': None, 'extendedPrice': None, 'extendedPriceTime': None, 'high': 0, 'highSource': 'lune ea idr5ipcye1mtd e', 'highTime': 1701097163908, 'iexAskPrice': 121.28, 'iexAskSize': 206, 'iexBidPrice': 0, 'iexBidSize': 0, 'iexClose': 123.02, 'iexCloseTime': 1717139092789, 'iexLastUpdated': 1656813323559, 'iexMarketPercent': 0.05961739788053466, 'iexOpen': 125.781, 'iexOpenTime': 1717894112047, 'iexRealtimePrice': 122.096, 'iexRealtimeSize': 103, 'iexVolume': 170874, 'lastTradeTime': 1686429032358, 'latestPrice': 119.687, 'latestSource': 'IEX real time price', 'latestTime': '2:31:07 PM', 'latestUpdate': 1727639628397, 'latestVolume': None, 'low': 0, 'lowSource': 'pe  eidyluie5ctnra1edm ', 'lowTime': 1700792567357, 'marketCap': 212087858035, 'oddLotDelayedPrice': None, 'oddLotDelayedPriceTime': None, 'open': 0, 'openTime': None, 'openSource': 'ocflaiif', 'peRatio': 30.37, 'previousClose': 123.92, 'previousVolume': 4658976, 'primaryExchange': 'C IKROW CTNNGEOEE YKSNX HA.C', 'symbol': 'ABT', 'volume': None, 'week52High': 147.1, 'week52Low': 107.52, 'ytdChange': -0.1684631083318016, 'isUSMarketOpen': True}\n",
      "{'avgTotalVolume': 3192518, 'calculationPrice': 'tops', 'change': -6.3, 'changePercent': -0.01902, 'close': 0, 'closeSource': 'loiaficf', 'closeTime': None, 'companyName': 'Accenture plc - Class A', 'currency': 'USD', 'delayedPrice': None, 'delayedPriceTime': None, 'extendedChange': None, 'extendedChangePercent': None, 'extendedPrice': None, 'extendedPriceTime': None, 'high': 0, 'highSource': 'dt1eyiepun5eir deam lc ', 'highTime': 1715192999074, 'iexAskPrice': 0, 'iexAskSize': 0, 'iexBidPrice': 0, 'iexBidSize': 0, 'iexClose': 324.53, 'iexCloseTime': 1701953480961, 'iexLastUpdated': 1694768367206, 'iexMarketPercent': 0.06153511503887021, 'iexOpen': 331, 'iexOpenTime': 1676251586892, 'iexRealtimePrice': 323.85, 'iexRealtimeSize': 1, 'iexVolume': 67321, 'lastTradeTime': 1678421302136, 'latestPrice': 329.24, 'latestSource': 'IEX real time price', 'latestTime': '2:30:18 PM', 'latestUpdate': 1693138143934, 'latestVolume': None, 'low': 0, 'lowSource': 'meadeedui1iy e cln5rpt ', 'lowTime': 1702137317659, 'marketCap': 217942652622, 'oddLotDelayedPrice': None, 'oddLotDelayedPriceTime': None, 'open': 0, 'openTime': None, 'openSource': 'ifflcoia', 'peRatio': 32.59, 'previousClose': 330.12, 'previousVolume': 2059793, 'primaryExchange': ' O HKXRCOEN SKNIGEWT EYCNC.A', 'symbol': 'ACN', 'volume': None, 'week52High': 424.11, 'week52Low': 269.64, 'ytdChange': -0.23627104109595667, 'isUSMarketOpen': True}\n",
      "{'avgTotalVolume': 3956592, 'calculationPrice': 'tops', 'change': -50.24, 'changePercent': -0.10662, 'close': 0, 'closeSource': 'fcoiaifl', 'closeTime': None, 'companyName': 'Adobe Inc', 'currency': 'USD', 'delayedPrice': None, 'delayedPriceTime': None, 'extendedChange': None, 'extendedChangePercent': None, 'extendedPrice': None, 'extendedPriceTime': None, 'high': 0, 'highSource': None, 'highTime': None, 'iexAskPrice': 427, 'iexAskSize': 275, 'iexBidPrice': 430.39, 'iexBidSize': 173, 'iexClose': 430.78, 'iexCloseTime': 1689552748643, 'iexLastUpdated': 1676849718689, 'iexMarketPercent': 0.0714623511254992, 'iexOpen': 452.31, 'iexOpenTime': 1671497649641, 'iexRealtimePrice': 434.76, 'iexRealtimeSize': 7, 'iexVolume': 793740, 'lastTradeTime': 1716982360207, 'latestPrice': 419.98, 'latestSource': 'IEX real time price', 'latestTime': '2:31:10 PM', 'latestUpdate': 1702666722607, 'latestVolume': None, 'low': 0, 'lowSource': 'a I mirreietp eclXE', 'lowTime': 1661879737167, 'marketCap': 206285711497, 'oddLotDelayedPrice': None, 'oddLotDelayedPriceTime': None, 'open': 0, 'openTime': None, 'openSource': 'iffoilca', 'peRatio': 42.5, 'previousClose': 477.92, 'previousVolume': 5618136, 'primaryExchange': 'ANASQD', 'symbol': 'ADBE', 'volume': None, 'week52High': 716.84, 'week52Low': 427.16, 'ytdChange': -0.2899309611497332, 'isUSMarketOpen': True}\n"
     ]
    }
   ],
   "source": [
    "final_dataframe = pd.DataFrame(columns = my_columns)\n",
    "for stock in stocks['Ticker'][:10]:\n",
    "    api_url = f'https://sandbox.iexapis.com/stable/stock/{stock}/quote?token={IEX_CLOUD_API_TOKEN}'\n",
    "    data = requests.get(api_url).json()\n",
    "    print(data)\n",
    "    final_dataframe = final_dataframe.append(\n",
    "        pd.Series(\n",
    "        [\n",
    "            stock,\n",
    "            data['latestPrice'],\n",
    "            data['marketCap'],\n",
    "            'N/A'\n",
    "        ],\n",
    "            index = my_columns),\n",
    "        ignore_index = True\n",
    "    )"
   ]
  },
  {
   "cell_type": "code",
   "execution_count": 9,
   "metadata": {},
   "outputs": [
    {
     "data": {
      "text/html": [
       "<div>\n",
       "<style scoped>\n",
       "    .dataframe tbody tr th:only-of-type {\n",
       "        vertical-align: middle;\n",
       "    }\n",
       "\n",
       "    .dataframe tbody tr th {\n",
       "        vertical-align: top;\n",
       "    }\n",
       "\n",
       "    .dataframe thead th {\n",
       "        text-align: right;\n",
       "    }\n",
       "</style>\n",
       "<table border=\"1\" class=\"dataframe\">\n",
       "  <thead>\n",
       "    <tr style=\"text-align: right;\">\n",
       "      <th></th>\n",
       "      <th>Ticker</th>\n",
       "      <th>Stock Price</th>\n",
       "      <th>Market Capitalization</th>\n",
       "      <th>Number of Shares to Buy</th>\n",
       "    </tr>\n",
       "  </thead>\n",
       "  <tbody>\n",
       "    <tr>\n",
       "      <th>0</th>\n",
       "      <td>A</td>\n",
       "      <td>136.750</td>\n",
       "      <td>41127173230</td>\n",
       "      <td>N/A</td>\n",
       "    </tr>\n",
       "    <tr>\n",
       "      <th>1</th>\n",
       "      <td>AAL</td>\n",
       "      <td>16.970</td>\n",
       "      <td>10593448345</td>\n",
       "      <td>N/A</td>\n",
       "    </tr>\n",
       "    <tr>\n",
       "      <th>2</th>\n",
       "      <td>AAP</td>\n",
       "      <td>218.690</td>\n",
       "      <td>13129510598</td>\n",
       "      <td>N/A</td>\n",
       "    </tr>\n",
       "    <tr>\n",
       "      <th>3</th>\n",
       "      <td>AAPL</td>\n",
       "      <td>173.600</td>\n",
       "      <td>2910665455714</td>\n",
       "      <td>N/A</td>\n",
       "    </tr>\n",
       "    <tr>\n",
       "      <th>4</th>\n",
       "      <td>ABBV</td>\n",
       "      <td>160.870</td>\n",
       "      <td>284067966855</td>\n",
       "      <td>N/A</td>\n",
       "    </tr>\n",
       "    <tr>\n",
       "      <th>5</th>\n",
       "      <td>ABC</td>\n",
       "      <td>157.490</td>\n",
       "      <td>32799255950</td>\n",
       "      <td>N/A</td>\n",
       "    </tr>\n",
       "    <tr>\n",
       "      <th>6</th>\n",
       "      <td>ABMD</td>\n",
       "      <td>323.800</td>\n",
       "      <td>14605894517</td>\n",
       "      <td>N/A</td>\n",
       "    </tr>\n",
       "    <tr>\n",
       "      <th>7</th>\n",
       "      <td>ABT</td>\n",
       "      <td>119.687</td>\n",
       "      <td>212087858035</td>\n",
       "      <td>N/A</td>\n",
       "    </tr>\n",
       "    <tr>\n",
       "      <th>8</th>\n",
       "      <td>ACN</td>\n",
       "      <td>329.240</td>\n",
       "      <td>217942652622</td>\n",
       "      <td>N/A</td>\n",
       "    </tr>\n",
       "    <tr>\n",
       "      <th>9</th>\n",
       "      <td>ADBE</td>\n",
       "      <td>419.980</td>\n",
       "      <td>206285711497</td>\n",
       "      <td>N/A</td>\n",
       "    </tr>\n",
       "  </tbody>\n",
       "</table>\n",
       "</div>"
      ],
      "text/plain": [
       "  Ticker  Stock Price Market Capitalization Number of Shares to Buy\n",
       "0      A      136.750           41127173230                     N/A\n",
       "1    AAL       16.970           10593448345                     N/A\n",
       "2    AAP      218.690           13129510598                     N/A\n",
       "3   AAPL      173.600         2910665455714                     N/A\n",
       "4   ABBV      160.870          284067966855                     N/A\n",
       "5    ABC      157.490           32799255950                     N/A\n",
       "6   ABMD      323.800           14605894517                     N/A\n",
       "7    ABT      119.687          212087858035                     N/A\n",
       "8    ACN      329.240          217942652622                     N/A\n",
       "9   ADBE      419.980          206285711497                     N/A"
      ]
     },
     "execution_count": 9,
     "metadata": {},
     "output_type": "execute_result"
    }
   ],
   "source": [
    "final_dataframe"
   ]
  },
  {
   "cell_type": "markdown",
   "metadata": {},
   "source": [
    "## Using Batch API Calls to Improve Performance"
   ]
  },
  {
   "cell_type": "code",
   "execution_count": 10,
   "metadata": {},
   "outputs": [],
   "source": [
    "def chunks(lst,n):\n",
    "    for i in range(0,len(lst),n):\n",
    "        yield lst[i:i+n]"
   ]
  },
  {
   "cell_type": "code",
   "execution_count": 11,
   "metadata": {},
   "outputs": [
    {
     "name": "stdout",
     "output_type": "stream",
     "text": [
      "https://sandbox.iexapis.com/stable/stock/market/batch?symbols=A,AAL,AAP,AAPL,ABBV,ABC,ABMD,ABT,ACN,ADBE,ADI,ADM,ADP,ADSK,AEE,AEP,AES,AFL,AIG,AIV,AIZ,AJG,AKAM,ALB,ALGN,ALK,ALL,ALLE,ALXN,AMAT,AMCR,AMD,AME,AMGN,AMP,AMT,AMZN,ANET,ANSS,ANTM,AON,AOS,APA,APD,APH,APTV,ARE,ATO,ATVI,AVB,AVGO,AVY,AWK,AXP,AZO,BA,BAC,BAX,BBY,BDX,BEN,BF.B,BIIB,BIO,BK,BKNG,BKR,BLK,BLL,BMY,BR,BRK.B,BSX,BWA,BXP,C,CAG,CAH,CARR,CAT,CB,CBOE,CBRE,CCI,CCL,CDNS,CDW,CE,CERN,CF,CFG,CHD,CHRW,CHTR,CI,CINF,CL,CLX,CMA,CMCSA&types=quote&token=Tpk_059b97af715d417d9f49f50b51b1c448\n",
      "https://sandbox.iexapis.com/stable/stock/market/batch?symbols=CME,CMG,CMI,CMS,CNC,CNP,COF,COG,COO,COP,COST,COTY,CPB,CPRT,CRM,CSCO,CSX,CTAS,CTL,CTSH,CTVA,CTXS,CVS,CVX,CXO,D,DAL,DD,DE,DFS,DG,DGX,DHI,DHR,DIS,DISCA,DISCK,DISH,DLR,DLTR,DOV,DOW,DPZ,DRE,DRI,DTE,DUK,DVA,DVN,DXC,DXCM,EA,EBAY,ECL,ED,EFX,EIX,EL,EMN,EMR,EOG,EQIX,EQR,ES,ESS,ETFC,ETN,ETR,EVRG,EW,EXC,EXPD,EXPE,EXR,F,FANG,FAST,FB,FBHS,FCX,FDX,FE,FFIV,FIS,FISV,FITB,FLIR,FLS,FLT,FMC,FOX,FOXA,FRC,FRT,FTI,FTNT,FTV,GD,GE,GILD&types=quote&token=Tpk_059b97af715d417d9f49f50b51b1c448\n",
      "https://sandbox.iexapis.com/stable/stock/market/batch?symbols=GIS,GL,GLW,GM,GOOG,GOOGL,GPC,GPN,GPS,GRMN,GS,GWW,HAL,HAS,HBAN,HBI,HCA,HD,HES,HIG,HII,HLT,HOLX,HON,HPE,HPQ,HRB,HRL,HSIC,HST,HSY,HUM,HWM,IBM,ICE,IDXX,IEX,IFF,ILMN,INCY,INFO,INTC,INTU,IP,IPG,IPGP,IQV,IR,IRM,ISRG,IT,ITW,IVZ,J,JBHT,JCI,JKHY,JNJ,JNPR,JPM,K,KEY,KEYS,KHC,KIM,KLAC,KMB,KMI,KMX,KO,KR,KSS,KSU,L,LB,LDOS,LEG,LEN,LH,LHX,LIN,LKQ,LLY,LMT,LNC,LNT,LOW,LRCX,LUV,LVS,LW,LYB,LYV,MA,MAA,MAR,MAS,MCD,MCHP,MCK&types=quote&token=Tpk_059b97af715d417d9f49f50b51b1c448\n",
      "https://sandbox.iexapis.com/stable/stock/market/batch?symbols=MCO,MDLZ,MDT,MET,MGM,MHK,MKC,MKTX,MLM,MMC,MMM,MNST,MO,MOS,MPC,MRK,MRO,MS,MSCI,MSFT,MSI,MTB,MTD,MU,MXIM,MYL,NBL,NCLH,NDAQ,NEE,NEM,NFLX,NI,NKE,NLOK,NLSN,NOC,NOV,NOW,NRG,NSC,NTAP,NTRS,NUE,NVDA,NVR,NWL,NWS,NWSA,O,ODFL,OKE,OMC,ORCL,ORLY,OTIS,OXY,PAYC,PAYX,PBCT,PCAR,PEAK,PEG,PEP,PFE,PFG,PG,PGR,PH,PHM,PKG,PKI,PLD,PM,PNC,PNR,PNW,PPG,PPL,PRGO,PRU,PSA,PSX,PVH,PWR,PXD,PYPL,QCOM,QRVO,RCL,RE,REG,REGN,RF,RHI,RJF,RL,RMD,ROK,ROL&types=quote&token=Tpk_059b97af715d417d9f49f50b51b1c448\n",
      "https://sandbox.iexapis.com/stable/stock/market/batch?symbols=ROP,ROST,RSG,RTX,SBAC,SBUX,SCHW,SEE,SHW,SIVB,SJM,SLB,SLG,SNA,SNPS,SO,SPG,SPGI,SRE,STE,STT,STX,STZ,SWK,SWKS,SYF,SYK,SYY,T,TAP,TDG,TDY,TEL,TFC,TFX,TGT,TIF,TJX,TMO,TMUS,TPR,TROW,TRV,TSCO,TSN,TT,TTWO,TWTR,TXN,TXT,TYL,UA,UAA,UAL,UDR,UHS,ULTA,UNH,UNM,UNP,UPS,URI,USB,V,VAR,VFC,VLO,VMC,VNO,VRSK,VRSN,VRTX,VTR,VZ,WAB,WAT,WBA,WDC,WEC,WELL,WFC,WHR,WM,WMB,WMT,WRB,WRK,WST,WU,WY,WYNN,XEL,XLNX,XOM,XRAY,XRX,XYL,YUM,ZBH,ZBRA&types=quote&token=Tpk_059b97af715d417d9f49f50b51b1c448\n",
      "https://sandbox.iexapis.com/stable/stock/market/batch?symbols=ZION,ZTS&types=quote&token=Tpk_059b97af715d417d9f49f50b51b1c448\n"
     ]
    },
    {
     "data": {
      "text/html": [
       "<div>\n",
       "<style scoped>\n",
       "    .dataframe tbody tr th:only-of-type {\n",
       "        vertical-align: middle;\n",
       "    }\n",
       "\n",
       "    .dataframe tbody tr th {\n",
       "        vertical-align: top;\n",
       "    }\n",
       "\n",
       "    .dataframe thead th {\n",
       "        text-align: right;\n",
       "    }\n",
       "</style>\n",
       "<table border=\"1\" class=\"dataframe\">\n",
       "  <thead>\n",
       "    <tr style=\"text-align: right;\">\n",
       "      <th></th>\n",
       "      <th>Ticker</th>\n",
       "      <th>Stock Price</th>\n",
       "      <th>Market Capitalization</th>\n",
       "      <th>Number of Shares to Buy</th>\n",
       "    </tr>\n",
       "  </thead>\n",
       "  <tbody>\n",
       "    <tr>\n",
       "      <th>0</th>\n",
       "      <td>A</td>\n",
       "      <td>140.22</td>\n",
       "      <td>41863653506</td>\n",
       "      <td>N/A</td>\n",
       "    </tr>\n",
       "    <tr>\n",
       "      <th>1</th>\n",
       "      <td>AAL</td>\n",
       "      <td>16.83</td>\n",
       "      <td>11015330732</td>\n",
       "      <td>N/A</td>\n",
       "    </tr>\n",
       "    <tr>\n",
       "      <th>2</th>\n",
       "      <td>AAP</td>\n",
       "      <td>216.20</td>\n",
       "      <td>13556815698</td>\n",
       "      <td>N/A</td>\n",
       "    </tr>\n",
       "    <tr>\n",
       "      <th>3</th>\n",
       "      <td>AAPL</td>\n",
       "      <td>178.90</td>\n",
       "      <td>2880783312895</td>\n",
       "      <td>N/A</td>\n",
       "    </tr>\n",
       "    <tr>\n",
       "      <th>4</th>\n",
       "      <td>ABBV</td>\n",
       "      <td>162.37</td>\n",
       "      <td>290799825867</td>\n",
       "      <td>N/A</td>\n",
       "    </tr>\n",
       "    <tr>\n",
       "      <th>...</th>\n",
       "      <td>...</td>\n",
       "      <td>...</td>\n",
       "      <td>...</td>\n",
       "      <td>...</td>\n",
       "    </tr>\n",
       "    <tr>\n",
       "      <th>497</th>\n",
       "      <td>YUM</td>\n",
       "      <td>120.19</td>\n",
       "      <td>34023013682</td>\n",
       "      <td>N/A</td>\n",
       "    </tr>\n",
       "    <tr>\n",
       "      <th>498</th>\n",
       "      <td>ZBH</td>\n",
       "      <td>125.79</td>\n",
       "      <td>26261510440</td>\n",
       "      <td>N/A</td>\n",
       "    </tr>\n",
       "    <tr>\n",
       "      <th>499</th>\n",
       "      <td>ZBRA</td>\n",
       "      <td>428.64</td>\n",
       "      <td>22886658497</td>\n",
       "      <td>N/A</td>\n",
       "    </tr>\n",
       "    <tr>\n",
       "      <th>500</th>\n",
       "      <td>ZION</td>\n",
       "      <td>67.94</td>\n",
       "      <td>10816222936</td>\n",
       "      <td>N/A</td>\n",
       "    </tr>\n",
       "    <tr>\n",
       "      <th>501</th>\n",
       "      <td>ZTS</td>\n",
       "      <td>199.75</td>\n",
       "      <td>94208066169</td>\n",
       "      <td>N/A</td>\n",
       "    </tr>\n",
       "  </tbody>\n",
       "</table>\n",
       "<p>502 rows × 4 columns</p>\n",
       "</div>"
      ],
      "text/plain": [
       "    Ticker  Stock Price Market Capitalization Number of Shares to Buy\n",
       "0        A       140.22           41863653506                     N/A\n",
       "1      AAL        16.83           11015330732                     N/A\n",
       "2      AAP       216.20           13556815698                     N/A\n",
       "3     AAPL       178.90         2880783312895                     N/A\n",
       "4     ABBV       162.37          290799825867                     N/A\n",
       "..     ...          ...                   ...                     ...\n",
       "497    YUM       120.19           34023013682                     N/A\n",
       "498    ZBH       125.79           26261510440                     N/A\n",
       "499   ZBRA       428.64           22886658497                     N/A\n",
       "500   ZION        67.94           10816222936                     N/A\n",
       "501    ZTS       199.75           94208066169                     N/A\n",
       "\n",
       "[502 rows x 4 columns]"
      ]
     },
     "execution_count": 11,
     "metadata": {},
     "output_type": "execute_result"
    }
   ],
   "source": [
    "symbol_groups  = list(chunks(stocks['Ticker'],100))\n",
    "symbol_strings = []\n",
    "for i in range(0,len(symbol_groups)):\n",
    "    symbol_strings.append(','.join(symbol_groups[i]))\n",
    "#     print(symbol_strings[i])\n",
    "final_dataframe = pd.DataFrame(columns = my_columns)\n",
    "\n",
    "for symbol_string in symbol_strings:\n",
    "    batch_api_call_url = f'https://sandbox.iexapis.com/stable/stock/market/batch?symbols={symbol_string}&types=quote&token={IEX_CLOUD_API_TOKEN}'\n",
    "    data = requests.get(batch_api_call_url).json()\n",
    "#     print(data.status_code)\n",
    "    print(batch_api_call_url)\n",
    "    for symbol in symbol_string.split(','):\n",
    "        final_dataframe = final_dataframe.append(\n",
    "            pd.Series(\n",
    "            [\n",
    "                symbol,\n",
    "                data[symbol]['quote']['latestPrice'],\n",
    "                data[symbol]['quote']['marketCap'],\n",
    "                'N/A'\n",
    "            ],\n",
    "            index = my_columns),\n",
    "            ignore_index = True\n",
    "        )\n",
    "final_dataframe"
   ]
  },
  {
   "cell_type": "markdown",
   "metadata": {},
   "source": [
    "## Calculating the Number of Shares to Buy"
   ]
  },
  {
   "cell_type": "code",
   "execution_count": 12,
   "metadata": {},
   "outputs": [],
   "source": [
    "# portfolio_size = input('Enter the value of your portfolio')\n",
    "portfolio_size = 10000\n",
    "try:\n",
    "    val = float(portfolio_size)\n",
    "except ValueError:\n",
    "    print(\"that is not number!\")\n",
    "    portfolio_size = input('Enter the value of your portfolio')\n",
    "    val = float(porfolio_size)"
   ]
  },
  {
   "cell_type": "code",
   "execution_count": 13,
   "metadata": {
    "scrolled": true
   },
   "outputs": [
    {
     "data": {
      "text/html": [
       "<div>\n",
       "<style scoped>\n",
       "    .dataframe tbody tr th:only-of-type {\n",
       "        vertical-align: middle;\n",
       "    }\n",
       "\n",
       "    .dataframe tbody tr th {\n",
       "        vertical-align: top;\n",
       "    }\n",
       "\n",
       "    .dataframe thead th {\n",
       "        text-align: right;\n",
       "    }\n",
       "</style>\n",
       "<table border=\"1\" class=\"dataframe\">\n",
       "  <thead>\n",
       "    <tr style=\"text-align: right;\">\n",
       "      <th></th>\n",
       "      <th>Ticker</th>\n",
       "      <th>Stock Price</th>\n",
       "      <th>Market Capitalization</th>\n",
       "      <th>Number of Shares to Buy</th>\n",
       "    </tr>\n",
       "  </thead>\n",
       "  <tbody>\n",
       "    <tr>\n",
       "      <th>0</th>\n",
       "      <td>A</td>\n",
       "      <td>140.22</td>\n",
       "      <td>41863653506</td>\n",
       "      <td>0</td>\n",
       "    </tr>\n",
       "    <tr>\n",
       "      <th>1</th>\n",
       "      <td>AAL</td>\n",
       "      <td>16.83</td>\n",
       "      <td>11015330732</td>\n",
       "      <td>1</td>\n",
       "    </tr>\n",
       "    <tr>\n",
       "      <th>2</th>\n",
       "      <td>AAP</td>\n",
       "      <td>216.20</td>\n",
       "      <td>13556815698</td>\n",
       "      <td>0</td>\n",
       "    </tr>\n",
       "    <tr>\n",
       "      <th>3</th>\n",
       "      <td>AAPL</td>\n",
       "      <td>178.90</td>\n",
       "      <td>2880783312895</td>\n",
       "      <td>0</td>\n",
       "    </tr>\n",
       "    <tr>\n",
       "      <th>4</th>\n",
       "      <td>ABBV</td>\n",
       "      <td>162.37</td>\n",
       "      <td>290799825867</td>\n",
       "      <td>0</td>\n",
       "    </tr>\n",
       "    <tr>\n",
       "      <th>...</th>\n",
       "      <td>...</td>\n",
       "      <td>...</td>\n",
       "      <td>...</td>\n",
       "      <td>...</td>\n",
       "    </tr>\n",
       "    <tr>\n",
       "      <th>497</th>\n",
       "      <td>YUM</td>\n",
       "      <td>120.19</td>\n",
       "      <td>34023013682</td>\n",
       "      <td>0</td>\n",
       "    </tr>\n",
       "    <tr>\n",
       "      <th>498</th>\n",
       "      <td>ZBH</td>\n",
       "      <td>125.79</td>\n",
       "      <td>26261510440</td>\n",
       "      <td>0</td>\n",
       "    </tr>\n",
       "    <tr>\n",
       "      <th>499</th>\n",
       "      <td>ZBRA</td>\n",
       "      <td>428.64</td>\n",
       "      <td>22886658497</td>\n",
       "      <td>0</td>\n",
       "    </tr>\n",
       "    <tr>\n",
       "      <th>500</th>\n",
       "      <td>ZION</td>\n",
       "      <td>67.94</td>\n",
       "      <td>10816222936</td>\n",
       "      <td>0</td>\n",
       "    </tr>\n",
       "    <tr>\n",
       "      <th>501</th>\n",
       "      <td>ZTS</td>\n",
       "      <td>199.75</td>\n",
       "      <td>94208066169</td>\n",
       "      <td>0</td>\n",
       "    </tr>\n",
       "  </tbody>\n",
       "</table>\n",
       "<p>502 rows × 4 columns</p>\n",
       "</div>"
      ],
      "text/plain": [
       "    Ticker  Stock Price Market Capitalization Number of Shares to Buy\n",
       "0        A       140.22           41863653506                       0\n",
       "1      AAL        16.83           11015330732                       1\n",
       "2      AAP       216.20           13556815698                       0\n",
       "3     AAPL       178.90         2880783312895                       0\n",
       "4     ABBV       162.37          290799825867                       0\n",
       "..     ...          ...                   ...                     ...\n",
       "497    YUM       120.19           34023013682                       0\n",
       "498    ZBH       125.79           26261510440                       0\n",
       "499   ZBRA       428.64           22886658497                       0\n",
       "500   ZION        67.94           10816222936                       0\n",
       "501    ZTS       199.75           94208066169                       0\n",
       "\n",
       "[502 rows x 4 columns]"
      ]
     },
     "execution_count": 13,
     "metadata": {},
     "output_type": "execute_result"
    }
   ],
   "source": [
    "position_size = val/len(final_dataframe.index)\n",
    "for i in range(0,len(final_dataframe.index)):\n",
    "    final_dataframe.loc[i,'Number of Shares to Buy'] = math.floor(position_size/final_dataframe.loc[i,'Stock Price'])\n",
    "final_dataframe"
   ]
  },
  {
   "cell_type": "markdown",
   "metadata": {},
   "source": [
    "## Formatting Our Excel Output\n",
    "\n",
    "### Initializing  XlsxWriter Object"
   ]
  },
  {
   "cell_type": "code",
   "execution_count": 14,
   "metadata": {
    "scrolled": true
   },
   "outputs": [],
   "source": [
    "writer = pd.ExcelWriter('recommended_trades.xlsx',engine = 'xlsxwriter')\n",
    "final_dataframe.to_excel(writer,'Recommended Trades',index= False)"
   ]
  },
  {
   "cell_type": "markdown",
   "metadata": {},
   "source": [
    "### Creating the Formats We'll Need For Our `.xlsx` File"
   ]
  },
  {
   "cell_type": "code",
   "execution_count": 15,
   "metadata": {},
   "outputs": [],
   "source": [
    "background_color = '#0a0a23'\n",
    "font_color = '#ffffff'\n",
    "string_format = writer.book.add_format(\n",
    "    {\n",
    "        'font_color' : font_color,\n",
    "        'bg_color' : background_color,\n",
    "        'border' : 1\n",
    "    }\n",
    ")\n",
    "dollar_format = writer.book.add_format(\n",
    "    {\n",
    "        'num_format': '$0.00',\n",
    "        'font_color' : font_color,\n",
    "        'bg_color' : background_color,\n",
    "        'border' : 1\n",
    "    }\n",
    ")\n",
    "integer_format = writer.book.add_format(\n",
    "    {\n",
    "        'num_format': '$0.00',\n",
    "        'font_color' : font_color,\n",
    "        'bg_color' : background_color,\n",
    "        'border' : 1\n",
    "    }\n",
    ")"
   ]
  },
  {
   "cell_type": "markdown",
   "metadata": {},
   "source": [
    "### Applying the Formats to the Columns of Our `.xlsx` File"
   ]
  },
  {
   "cell_type": "code",
   "execution_count": 16,
   "metadata": {},
   "outputs": [
    {
     "data": {
      "text/plain": [
       "0"
      ]
     },
     "execution_count": 16,
     "metadata": {},
     "output_type": "execute_result"
    }
   ],
   "source": [
    "\n",
    "writer.sheets['Recommended Trades'].write('A1','Ticker',string_format)\n",
    "writer.sheets['Recommended Trades'].write('B1','Stock Price',dollar_format)\n",
    "writer.sheets['Recommended Trades'].write('C1','Market Capitalization',dollar_format)\n",
    "writer.sheets['Recommended Trades'].write('D1','Number of Shares to Buy',integer_format)"
   ]
  },
  {
   "cell_type": "markdown",
   "metadata": {},
   "source": [
    "This code works, but it violates the software principle of \"Don't Repeat Yourself\". \n",
    "\n",
    "Let's simplify this by putting it in 2 loops:"
   ]
  },
  {
   "cell_type": "code",
   "execution_count": 17,
   "metadata": {},
   "outputs": [],
   "source": [
    "column_formats = {\n",
    "    'A' : ['Ticker',string_format],\n",
    "    'B' : ['Stock Price',dollar_format],\n",
    "    'C' : ['Market Capitalization',dollar_format],\n",
    "    'D' : ['Number of Shares to Buy',integer_format]\n",
    " }\n",
    "for column in column_formats.keys():\n",
    "    writer.sheets['Recommended Trades'].set_column(f'{column}:{column}',18,column_formats[column][1])\n",
    "    writer.sheets['Recommended Trades'].write(f'{column}1', column_formats[column][0], string_format)\n",
    "writer.save()"
   ]
  },
  {
   "cell_type": "markdown",
   "metadata": {},
   "source": [
    "## Saving Our Excel Output\n",
    "\n",
    "Saving our Excel file is very easy:"
   ]
  },
  {
   "cell_type": "code",
   "execution_count": 18,
   "metadata": {},
   "outputs": [
    {
     "name": "stderr",
     "output_type": "stream",
     "text": [
      "c:\\users\\user\\appdata\\local\\programs\\python\\python39\\lib\\site-packages\\xlsxwriter\\workbook.py:339: UserWarning: Calling close() on already closed file.\n",
      "  warn(\"Calling close() on already closed file.\")\n"
     ]
    }
   ],
   "source": [
    "writer.save()"
   ]
  }
 ],
 "metadata": {
  "kernelspec": {
   "display_name": "Python 3 (ipykernel)",
   "language": "python",
   "name": "python3"
  },
  "language_info": {
   "codemirror_mode": {
    "name": "ipython",
    "version": 3
   },
   "file_extension": ".py",
   "mimetype": "text/x-python",
   "name": "python",
   "nbconvert_exporter": "python",
   "pygments_lexer": "ipython3",
   "version": "3.9.0"
  }
 },
 "nbformat": 4,
 "nbformat_minor": 4
}
